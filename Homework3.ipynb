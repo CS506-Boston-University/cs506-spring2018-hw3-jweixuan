{
 "cells": [
  {
   "cell_type": "markdown",
   "metadata": {},
   "source": [
    "# Scraping Hotel Ratings on Booking # "
   ]
  },
  {
   "cell_type": "markdown",
   "metadata": {},
   "source": [
    "In this homework we will practice web scraping on the following [site](https://www.booking.com/searchresults.html?label=gen173nr-1DCAEoggJCAlhYSDNYBHIFdXNfbWGIAQGYATG4AQfIAQ3YAQPoAQH4AQKSAgF5qAID&sid=991709bb93b40898e2ebcc9f2e20ade5&class_interval=1&dest_id=20088325&dest_type=city&from_sf=1&group_adults=2&group_children=0&label_click=undef&nflt=di%3D929%3B&no_rooms=1&pop_filter_id=di-929&pop_filter_pos=0&pop_filter_rank=2&raw_dest_type=city&room1=A%2CA&sb_price_type=total&search_selected=1&src=index&src_elem=sb&ss=New%20York%2C%20New%20York%20State%2C%20USA&ss_raw=new%20york&ssb=empty). Let's get some basic information for **each hotel in Manhattan (follow the above link) **.\n",
    "On each hotel page, scrape the following information: \n",
    "1. Hotel Name\n",
    "2. Class of Rating (Wonderful/Excellent/Very Good/Good)\n",
    "3. Rating Score\n",
    "\n",
    "** Save the data in \"hotel_information.csv\" in the following format: hotel_name, class_rating, rating **\n",
    "\n",
    "**(4 pts)**"
   ]
  },
  {
   "cell_type": "markdown",
   "metadata": {
    "collapsed": true
   },
   "source": [
    "Now let's scrape some reviews. You can see all review information by going to the hotel page and accessing on “see all reviews” and then view the page sourceFor each review of each each hotel in Manhattan you are to scrape the following attributes: \n",
    "1. Hotel name\n",
    "2. Reviewer name\n",
    "3. Number of helpful votes (if available, otherwise None)\n",
    "4. Date\n",
    "5. Review Rating\n",
    "6. Negative Review (if available, otherwise None)\n",
    "7. Positive Review (if available, otherwise None)\n",
    "\n",
    "Note that you will also need the hotel's name!! Also, some reviews may not have all attributes so then just add None in the corresponding column. \n",
    "\n",
    "** Save the data in \"review_ratings.csv\" in the following format: hotel_name, reviewer_name, num_help_votes, date, review_rating, neg_review, pos_review **\n",
    "\n",
    "**(4 pts)**"
   ]
  },
  {
   "cell_type": "code",
   "execution_count": null,
   "metadata": {
    "collapsed": true
   },
   "outputs": [],
   "source": []
  }
 ],
 "metadata": {
  "kernelspec": {
   "display_name": "Python 2",
   "language": "python",
   "name": "python2"
  },
  "language_info": {
   "codemirror_mode": {
    "name": "ipython",
    "version": 2
   },
   "file_extension": ".py",
   "mimetype": "text/x-python",
   "name": "python",
   "nbconvert_exporter": "python",
   "pygments_lexer": "ipython2",
   "version": "2.7.13"
  }
 },
 "nbformat": 4,
 "nbformat_minor": 2
}
